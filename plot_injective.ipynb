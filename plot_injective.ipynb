{
 "cells": [
  {
   "cell_type": "code",
   "execution_count": 2,
   "metadata": {},
   "outputs": [],
   "source": [
    "import torch\n",
    "import torch.nn as nn\n",
    "import matplotlib.pyplot as plt\n",
    "\n",
    "import networkx as nx \n",
    "import matplotlib.pyplot as plt\n",
    "import numpy as np"
   ]
  },
  {
   "cell_type": "code",
   "execution_count": 106,
   "metadata": {},
   "outputs": [
    {
     "data": {
      "image/png": "[encoded data removed]",
      "text/plain": [
       "<Figure size 640x480 with 1 Axes>"
      ]
     },
     "metadata": {},
     "output_type": "display_data"
    }
   ],
   "source": [
    "G = nx.Graph()\n",
    "G.add_node(\"A\")\n",
    "G.add_node(\"B\")\n",
    "G.add_node(\"C\")\n",
    "G.add_edge(\"A\",\"B\")\n",
    "G.add_edge(\"B\",\"C\")\n",
    "\n",
    "\n",
    "pos = {\n",
    "    \"A\": np.array([-.6,0]),\n",
    "    \"B\": np.array([0,-.1]),\n",
    "    \"C\": np.array([.6,0]),\n",
    "}\n",
    "\n",
    "# [,[0,-.1],[.6,0]]\n",
    "\n",
    "fig, ax = plt.subplots()\n",
    "\n",
    "nx.draw(G, pos = pos, ax = ax, node_color = [\"gray\",\"gray\",\"gray\"])\n",
    "ax.set_xlim([-1,1])\n",
    "ax.set_ylim([-1,1])\n",
    "# ax.axis(\"on\")\n",
    "# ax.tick_params(left=True, bottom=True, labelleft=True, labelbottom=True)\n",
    "plt.show()"
   ]
  },
  {
   "cell_type": "code",
   "execution_count": null,
   "metadata": {},
   "outputs": [],
   "source": [
    "G = nx.Graph()\n",
    "G.add_node(\"A\")\n",
    "G.add_node(\"B\")\n",
    "G.add_node(\"C\")\n",
    "G.add_edge(\"A\",\"C\")\n",
    "G.add_edge(\"B\",\"C\")\n",
    "\n",
    "\n",
    "pos = {\n",
    "    \"A\": np.array([-.6,-.6]),\n",
    "    \"B\": np.array([.6,.6]),\n",
    "    \"C\": np.array([-.2,.2]),\n",
    "}\n",
    "\n",
    "\n",
    "fig, ax = plt.subplots()\n",
    "\n",
    "nx.draw(G, pos = pos, ax = ax, node_color = [\"gray\",\"gray\",\"gray\"])\n",
    "ax.set_xlim([-1,1])\n",
    "ax.set_ylim([-1,1])\n",
    "# ax.axis(\"on\")\n",
    "# ax.tick_params(left=True, bottom=True, labelleft=True, labelbottom=True)\n",
    "plt.show()"
   ]
  },
  {
   "cell_type": "code",
   "execution_count": 109,
   "metadata": {},
   "outputs": [],
   "source": [
    "from models.layers.layers import EctConfig, EctLayer\n",
    "from torch_geometric.data import Data, Batch\n",
    "\n",
    "NUM_THETAS = 16\n",
    "\n",
    "V = torch.vstack(\n",
    "    [\n",
    "        torch.sin(torch.linspace(0, 2*torch.pi, NUM_THETAS)),\n",
    "        torch.cos(torch.linspace(0, 2*torch.pi, NUM_THETAS)),\n",
    "    ]\n",
    ")\n",
    "\n",
    "points_0 = torch.tensor([[-.6,0],[.6,0]])\n",
    "points_1 = torch.tensor([[-.6,0],[0,-.1],[.6,0]])\n",
    "\n",
    "edges_0 = torch.tensor([[0],[1]])\n",
    "edges_1 = torch.tensor([[0,1],\n",
    "                        [1,2]])\n",
    "\n",
    "layer = EctLayer(EctConfig(device=\"cpu\",num_features=2,bump_steps=NUM_THETAS,num_thetas=NUM_THETAS,ect_type=\"edges\"),fixed=True)\n",
    "layer.v = V\n",
    "\n",
    "batch = Batch.from_data_list([Data(x=points_0,edge_index=edges_0),Data(x=points_1,edge_index=edges_1)])\n",
    "res = layer(batch)\n"
   ]
  },
  {
   "cell_type": "code",
   "execution_count": 111,
   "metadata": {},
   "outputs": [
    {
     "data": {
      "text/plain": [
       "(-0.5, 15.5, 15.5, -0.5)"
      ]
     },
     "execution_count": 111,
     "metadata": {},
     "output_type": "execute_result"
    },
    {
     "data": {
      "image/png": "[encoded data removed]",
      "text/plain": [
       "<Figure size 640x480 with 1 Axes>"
      ]
     },
     "metadata": {},
     "output_type": "display_data"
    }
   ],
   "source": [
    "plt.imshow(res[0].detach().numpy())\n",
    "plt.axis(\"off\")"
   ]
  },
  {
   "cell_type": "code",
   "execution_count": null,
   "metadata": {},
   "outputs": [],
   "source": []
  },
  {
   "cell_type": "code",
   "execution_count": null,
   "metadata": {},
   "outputs": [],
   "source": []
  }
 ],
 "metadata": {
  "kernelspec": {
   "display_name": "Python 3",
   "language": "python",
   "name": "python3"
  },
  "language_info": {
   "codemirror_mode": {
    "name": "ipython",
    "version": 3
   },
   "file_extension": ".py",
   "mimetype": "text/x-python",
   "name": "python",
   "nbconvert_exporter": "python",
   "pygments_lexer": "ipython3",
   "version": "3.10.11"
  }
 },
 "nbformat": 4,
 "nbformat_minor": 2
}
